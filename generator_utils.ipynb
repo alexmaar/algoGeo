{
 "cells": [
  {
   "cell_type": "code",
   "execution_count": 8,
   "metadata": {},
   "outputs": [
    {
     "ename": "SyntaxError",
     "evalue": "invalid syntax (<ipython-input-8-9870a13047e8>, line 12)",
     "output_type": "error",
     "traceback": [
      "\u001b[0;36m  File \u001b[0;32m\"<ipython-input-8-9870a13047e8>\"\u001b[0;36m, line \u001b[0;32m12\u001b[0m\n\u001b[0;31m    return points\u001b[0m\n\u001b[0m         ^\u001b[0m\n\u001b[0;31mSyntaxError\u001b[0m\u001b[0;31m:\u001b[0m invalid syntax\n"
     ]
    }
   ],
   "source": [
    "import random\n",
    "import math\n",
    "import csv\n",
    "\n",
    "def get_random(min,max):\n",
    "    return random.uniform(min,max)\n",
    "\n",
    "def generate_in_range(min,max,amount):\n",
    "    points=[]\n",
    "    for _ in range (0,amount):\n",
    "        points.append((get_random(min,max), get_random(min,max))\n",
    "    return points\n",
    "\n",
    "def generate_on_circle(center_x, center_y, radius, amount):\n",
    "    points=[]\n",
    "    for _ in range(0,amount):\n",
    "        angle=get_random(0,2 *math.pi)  # wspolrzedne biegunowe\n",
    "        point.append((center_x + radius * math.cos(angle), center_y + radius * math.sin(angle)))\n",
    "    return points  \n",
    "\n",
    "def generate_on_line (a, b, amount): # y=0.05x + 0.05\n",
    "    points=[]\n",
    "    for _ in range(0, amount):\n",
    "        x=get_random(a,b)\n",
    "        points.append(x,0.05 * x + 0.05)\n",
    "    return points\n",
    "\n",
    "points = []\n",
    "points=generate_in_range (0,10,5)\n",
    "print(points)"
   ]
  },
  {
   "cell_type": "code",
   "execution_count": null,
   "metadata": {},
   "outputs": [],
   "source": [
    "char * positions[3]={\"Left\", \"On\", \"Right\"};\n",
    "\n",
    "double compute_det (double p_x0, double p_y0, double p_x1, double p_y1, double p_x2, double p_y2, int alg){\n",
    "    double p0[] = {p_x0, p_y0};\n",
    "    double p1[]= {p_x1, p_y1};\n",
    "    double p2[] = {p_x2, p_y2};\n",
    "    \n",
    "    if (alg ==1){\n",
    "        return p_x0 * p_y1 + p_x1 * p_y2 + p_x2 * p_y0 - p_y1 * p_x2 - p_y2 * p_x0 - p_y0 * p_x1\n",
    "                \n",
    "    }\n",
    "    \n",
    "int calssify_by_data(char * file_path, double ** data, int len){\n",
    "    double *x_points = data[0];\n",
    "    double *y_points = data[1];\n",
    "    \n",
    "    char * file_name;\n",
    "}    \n",
    "}"
   ]
  },
  {
   "cell_type": "code",
   "execution_count": null,
   "metadata": {},
   "outputs": [],
   "source": []
  }
 ],
 "metadata": {
  "kernelspec": {
   "display_name": "Python 3",
   "language": "python",
   "name": "python3"
  },
  "language_info": {
   "codemirror_mode": {
    "name": "ipython",
    "version": 3
   },
   "file_extension": ".py",
   "mimetype": "text/x-python",
   "name": "python",
   "nbconvert_exporter": "python",
   "pygments_lexer": "ipython3",
   "version": "3.7.4"
  }
 },
 "nbformat": 4,
 "nbformat_minor": 2
}
